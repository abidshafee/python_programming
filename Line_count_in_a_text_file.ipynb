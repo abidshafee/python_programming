{
  "nbformat": 4,
  "nbformat_minor": 0,
  "metadata": {
    "colab": {
      "name": "Line count in a text file.ipynb",
      "provenance": [],
      "authorship_tag": "ABX9TyMadpqI3NXUv2WEwK5MchxI",
      "include_colab_link": true
    },
    "kernelspec": {
      "name": "python3",
      "display_name": "Python 3"
    },
    "language_info": {
      "name": "python"
    }
  },
  "cells": [
    {
      "cell_type": "markdown",
      "metadata": {
        "id": "view-in-github",
        "colab_type": "text"
      },
      "source": [
        "<a href=\"https://colab.research.google.com/github/abidshafee/python_programming/blob/main/Line_count_in_a_text_file.ipynb\" target=\"_parent\"><img src=\"https://colab.research.google.com/assets/colab-badge.svg\" alt=\"Open In Colab\"/></a>"
      ]
    },
    {
      "cell_type": "code",
      "metadata": {
        "colab": {
          "base_uri": "https://localhost:8080/"
        },
        "id": "z4WuHTou_2qO",
        "outputId": "3ef1807e-371f-4bdd-8039-4194372900fe"
      },
      "source": [
        "file_path = input('Enter file path: ')"
      ],
      "execution_count": 6,
      "outputs": [
        {
          "output_type": "stream",
          "text": [
            "Enter file path: /content/implementing RNN from scratch.txt\n"
          ],
          "name": "stdout"
        }
      ]
    },
    {
      "cell_type": "code",
      "metadata": {
        "id": "PiM7N1sqAEcA"
      },
      "source": [
        "handle = open(file_path, 'r')"
      ],
      "execution_count": 7,
      "outputs": []
    },
    {
      "cell_type": "code",
      "metadata": {
        "colab": {
          "base_uri": "https://localhost:8080/"
        },
        "id": "SmSD54bkAJoi",
        "outputId": "3bf4abf8-6a72-4068-de5d-8f52dfa2216e"
      },
      "source": [
        "for line in handle:\n",
        "  print(line)"
      ],
      "execution_count": 8,
      "outputs": [
        {
          "output_type": "stream",
          "text": [
            "class recurrent_cell(tf.keras.layers.Layer):\n",
            "\n",
            "    def __init__(self, rnn_units, input_size, output_size):\n",
            "\n",
            "        super(recurrent_cell, self).__init__()\n",
            "\n",
            "\n",
            "\n",
            "        #initialize weight matrices\n",
            "\n",
            "        #weight that transform input to hidden state\n",
            "\n",
            "        self.W_xh = self.add_weight([rnn_units, input_size])\n",
            "\n",
            "        #Weight that transform prev. hidden state to current state\n",
            "\n",
            "        self.W_hh = self.add_weight([rnn_units, rnn_units])\n",
            "\n",
            "        #Weight that transform hidden state to output y\n",
            "\n",
            "        self.W_hy = self.add_weight([output_size, rnn_units])\n",
            "\n",
            "\n",
            "\n",
            "        #initialize hidden state to zeros\n",
            "\n",
            "        self.h = tf.zeros([rnn_units, 1])\n",
            "\n",
            "\n",
            "\n",
            "    def call(self, x):\n",
            "\n",
            "+++++++++++++++++++++++++++++++++++++++++++++++++++++++++++++++++++\n",
            "\n",
            "\n",
            "\n",
            "import tensorflow as tf\n",
            "\n",
            "from tensorflow import keras\n",
            "\n",
            "from tensorflow.keras import layers\n",
            "\n",
            "\n",
            "\n",
            "model = keras.models.Sequential()\n",
            "\n",
            "model.add(keras.Input(shape(sequence_len, input_size)))\n",
            "\n",
            "model.add(layers.SimpleRNN(n, activation='tanh')\n",
            "\n",
            "model.add(layers.Dense(output_size))\n"
          ],
          "name": "stdout"
        }
      ]
    },
    {
      "cell_type": "markdown",
      "metadata": {
        "id": "2YG414SOARDC"
      },
      "source": [
        "### Line count in the file"
      ]
    },
    {
      "cell_type": "code",
      "metadata": {
        "colab": {
          "base_uri": "https://localhost:8080/"
        },
        "id": "n4-jis42AO8z",
        "outputId": "e3419ade-f91a-4ff4-9168-2a9931c83561"
      },
      "source": [
        "count = 0\n",
        "handle = open(file_path, 'r')\n",
        "for line in handle:\n",
        "  count = count + 1\n",
        "print('Line Count: ', count)"
      ],
      "execution_count": 9,
      "outputs": [
        {
          "output_type": "stream",
          "text": [
            "Line Count:  26\n"
          ],
          "name": "stdout"
        }
      ]
    },
    {
      "cell_type": "code",
      "metadata": {
        "id": "cXw3AFN9AgBK"
      },
      "source": [
        ""
      ],
      "execution_count": null,
      "outputs": []
    }
  ]
}