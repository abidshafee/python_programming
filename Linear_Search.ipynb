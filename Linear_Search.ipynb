{
  "nbformat": 4,
  "nbformat_minor": 0,
  "metadata": {
    "colab": {
      "name": "Linear Search.ipynb",
      "provenance": [],
      "collapsed_sections": [],
      "authorship_tag": "ABX9TyMXjCLHR1X0C9LCjE+mBEEI",
      "include_colab_link": true
    },
    "kernelspec": {
      "name": "python3",
      "display_name": "Python 3"
    },
    "language_info": {
      "name": "python"
    }
  },
  "cells": [
    {
      "cell_type": "markdown",
      "metadata": {
        "id": "view-in-github",
        "colab_type": "text"
      },
      "source": [
        "<a href=\"https://colab.research.google.com/github/abidshafee/python_programming/blob/main/Linear_Search.ipynb\" target=\"_parent\"><img src=\"https://colab.research.google.com/assets/colab-badge.svg\" alt=\"Open In Colab\"/></a>"
      ]
    },
    {
      "cell_type": "markdown",
      "metadata": {
        "id": "WLNCp-h_pt2Q"
      },
      "source": [
        "#Linear Search | Find an item in a list"
      ]
    },
    {
      "cell_type": "code",
      "metadata": {
        "id": "q5z-orncpi60"
      },
      "source": [
        "# declare a list of numbers\n",
        "numbers = [7, 9, 18, 78, 80, 108, 90, 1005, 77, 95, 43, 555, 4, 3, 15, 20, 999]"
      ],
      "execution_count": 1,
      "outputs": []
    },
    {
      "cell_type": "code",
      "metadata": {
        "colab": {
          "base_uri": "https://localhost:8080/"
        },
        "id": "45zOByGMslbW",
        "outputId": "fae0d6a2-05a9-4fdb-f44d-fab48c5380d0"
      },
      "source": [
        "# search an item\n",
        "n = int(input('Search an item: '))"
      ],
      "execution_count": 5,
      "outputs": [
        {
          "output_type": "stream",
          "text": [
            "Search an item: 673\n"
          ],
          "name": "stdout"
        }
      ]
    },
    {
      "cell_type": "code",
      "metadata": {
        "id": "Nl1d9U9dsxVX"
      },
      "source": [
        "# define the linear search function\n",
        "def linearSerch(list, item):\n",
        "  for index in range(len(list)):\n",
        "    if list[index] == item:\n",
        "      return True\n",
        "  return False"
      ],
      "execution_count": 3,
      "outputs": []
    },
    {
      "cell_type": "code",
      "metadata": {
        "colab": {
          "base_uri": "https://localhost:8080/"
        },
        "id": "_YV2WcZKtLyP",
        "outputId": "619bac2f-246c-4e46-bea8-b82e3b4bb393"
      },
      "source": [
        "if linearSerch(numbers, n): #if the function return true\n",
        "  print('Item Found!', n)\n",
        "else:\n",
        "  print('item not found in the list', n)"
      ],
      "execution_count": 6,
      "outputs": [
        {
          "output_type": "stream",
          "text": [
            "item not found in the list 673\n"
          ],
          "name": "stdout"
        }
      ]
    },
    {
      "cell_type": "code",
      "metadata": {
        "id": "HeLBdV4btoJB"
      },
      "source": [
        ""
      ],
      "execution_count": null,
      "outputs": []
    }
  ]
}